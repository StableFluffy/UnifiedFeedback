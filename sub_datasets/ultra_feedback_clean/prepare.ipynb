{
 "cells": [
  {
   "cell_type": "code",
   "execution_count": 2,
   "metadata": {},
   "outputs": [],
   "source": [
    "from datasets import load_dataset\n",
    "\n",
    "dataset = load_dataset(\"argilla/ultrafeedback-binarized-preferences-cleaned\")"
   ]
  },
  {
   "cell_type": "code",
   "execution_count": 3,
   "metadata": {},
   "outputs": [
    {
     "data": {
      "text/plain": [
       "Dataset({\n",
       "    features: ['source', 'prompt', 'chosen', 'chosen-rating', 'chosen-model', 'rejected', 'rejected-rating', 'rejected-model'],\n",
       "    num_rows: 60917\n",
       "})"
      ]
     },
     "execution_count": 3,
     "metadata": {},
     "output_type": "execute_result"
    }
   ],
   "source": [
    "dataset['train']"
   ]
  },
  {
   "cell_type": "code",
   "execution_count": null,
   "metadata": {},
   "outputs": [],
   "source": [
    "from collections import Counter\n",
    "Counter([len(x['chosen']) for x in dataset['train']])"
   ]
  },
  {
   "cell_type": "code",
   "execution_count": 2,
   "metadata": {},
   "outputs": [],
   "source": [
    "import json\n",
    "new_data = []\n",
    "for i, item in enumerate(dataset['train']):\n",
    "    assert item['chosen'][0]['content'] == item['rejected'][0]['content'] == item['prompt']\n",
    "    chosen_response = item['chosen'][1]['content']\n",
    "    chosen_model = item['chosen-model']\n",
    "    chosen_rating = item['chosen-rating']\n",
    "    rejected_response = item['rejected'][1]['content']\n",
    "    rejected_model = item['rejected-model']\n",
    "    rejected_rating = item['rejected-rating']\n",
    "    instruction = item['prompt']\n",
    "    assert chosen_rating > rejected_rating, \"Chosen response should be better than rejected response\"\n",
    "    new_data.append({\n",
    "        \"id\": \"ultrafeedback_binarized_preferences_cleaned_\" + str(i),\n",
    "        \"instruction\": instruction,\n",
    "        \"input\": \"\",\n",
    "        \"candidates\": [\n",
    "            {\n",
    "                \"text\": chosen_response,\n",
    "                \"model\": chosen_model,\n",
    "                \"decoding_method\": \"unknown\",\n",
    "                \"scores\": {\n",
    "                    \"human_preference\": chosen_rating,\n",
    "                }\n",
    "            },\n",
    "            {\n",
    "                \"text\": rejected_response,\n",
    "                \"model\": rejected_model,\n",
    "                \"decoding_method\": \"unknown\",\n",
    "                \"scores\": {\n",
    "                    \"human_preference\": rejected_rating,\n",
    "                }\n",
    "                \n",
    "            }\n",
    "        ]\n",
    "    })\n",
    "\n",
    "import random\n",
    "random.seed(42)\n",
    "random_idx = random.sample(range(len(new_data)), 1000)\n",
    "train_data = [new_data[i] for i in range(len(new_data)) if i not in random_idx]\n",
    "val_data = [new_data[i] for i in range(len(new_data)) if i in random_idx]\n",
    "with open(\"train_data_prepared.json\", \"w\") as f:\n",
    "    json.dump(train_data, f, indent=4)\n",
    "\n",
    "with open(\"val_data_prepared.json\", \"w\") as f:\n",
    "    json.dump(val_data, f, indent=4)\n",
    "\n",
    "    "
   ]
  },
  {
   "cell_type": "code",
   "execution_count": null,
   "metadata": {},
   "outputs": [],
   "source": []
  }
 ],
 "metadata": {
  "kernelspec": {
   "display_name": "llm-blender",
   "language": "python",
   "name": "python3"
  },
  "language_info": {
   "codemirror_mode": {
    "name": "ipython",
    "version": 3
   },
   "file_extension": ".py",
   "mimetype": "text/x-python",
   "name": "python",
   "nbconvert_exporter": "python",
   "pygments_lexer": "ipython3",
   "version": "3.9.18"
  }
 },
 "nbformat": 4,
 "nbformat_minor": 2
}
