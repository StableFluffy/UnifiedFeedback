{
 "cells": [
  {
   "cell_type": "code",
   "execution_count": 1,
   "metadata": {},
   "outputs": [],
   "source": [
    "from datasets import load_dataset\n",
    "\n",
    "dataset = load_dataset(\"openai/summarize_from_feedback\", \"comparisons\")"
   ]
  },
  {
   "cell_type": "code",
   "execution_count": 2,
   "metadata": {},
   "outputs": [],
   "source": [
    "new_data = []\n",
    "for i, item in enumerate(dataset[\"train\"]):\n",
    "    new_data.append(\n",
    "        {\n",
    "            \"id\": \"sum_fb-\" + item['info']['id'],\n",
    "            \"instruction\": item['info']['post'],\n",
    "            \"input\": \"\",\n",
    "            \"candidates\": [\n",
    "                {\n",
    "                    \"text\": item['summaries'][0]['text'],\n",
    "                    \"model\": \"unknown\",\n",
    "                    \"decoding_method\": \"unknown\",\n",
    "                    \"scores\": {\n",
    "                        \"human_preference\": 1 if item['choice'] == 0 else 0,\n",
    "                    }\n",
    "                },\n",
    "                {\n",
    "                    \"text\": item['summaries'][1]['text'],\n",
    "                    \"model\": \"unknown\",\n",
    "                    \"decoding_method\": \"unknown\",\n",
    "                    \"scores\": {\n",
    "                        \"human_preference\": 1 if item['choice'] == 1 else 0,\n",
    "                    }\n",
    "                }\n",
    "            ]\n",
    "        }\n",
    "    )\n"
   ]
  },
  {
   "cell_type": "code",
   "execution_count": null,
   "metadata": {},
   "outputs": [],
   "source": [
    "import json\n",
    "with open(\"./train_data_prepared.json\", 'w') as f:\n",
    "    json.dump(new_data, f, indent=2)"
   ]
  },
  {
   "cell_type": "code",
   "execution_count": null,
   "metadata": {},
   "outputs": [],
   "source": []
  }
 ],
 "metadata": {
  "kernelspec": {
   "display_name": "llm-blender",
   "language": "python",
   "name": "python3"
  },
  "language_info": {
   "codemirror_mode": {
    "name": "ipython",
    "version": 3
   },
   "file_extension": ".py",
   "mimetype": "text/x-python",
   "name": "python",
   "nbconvert_exporter": "python",
   "pygments_lexer": "ipython3",
   "version": "3.9.18"
  }
 },
 "nbformat": 4,
 "nbformat_minor": 2
}
