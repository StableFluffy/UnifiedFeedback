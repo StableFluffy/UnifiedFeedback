{
 "cells": [
  {
   "cell_type": "code",
   "execution_count": 1,
   "metadata": {},
   "outputs": [
    {
     "data": {
      "application/vnd.jupyter.widget-view+json": {
       "model_id": "955a8172ff7b4a648e138aebee96e513",
       "version_major": 2,
       "version_minor": 0
      },
      "text/plain": [
       "Downloading builder script:   0%|          | 0.00/4.74k [00:00<?, ?B/s]"
      ]
     },
     "metadata": {},
     "output_type": "display_data"
    },
    {
     "data": {
      "application/vnd.jupyter.widget-view+json": {
       "model_id": "d02266f1452b4b5ca62c24a5bc4ef710",
       "version_major": 2,
       "version_minor": 0
      },
      "text/plain": [
       "Downloading readme:   0%|          | 0.00/2.85k [00:00<?, ?B/s]"
      ]
     },
     "metadata": {},
     "output_type": "display_data"
    },
    {
     "data": {
      "application/vnd.jupyter.widget-view+json": {
       "model_id": "cfe03dc48509419d803058b66bb2dd0f",
       "version_major": 2,
       "version_minor": 0
      },
      "text/plain": [
       "Downloading data:   0%|          | 0.00/279M [00:00<?, ?B/s]"
      ]
     },
     "metadata": {},
     "output_type": "display_data"
    },
    {
     "data": {
      "application/vnd.jupyter.widget-view+json": {
       "model_id": "985434ba2f144877a312ae604f9f64aa",
       "version_major": 2,
       "version_minor": 0
      },
      "text/plain": [
       "Generating train split: 0 examples [00:00, ? examples/s]"
      ]
     },
     "metadata": {},
     "output_type": "display_data"
    }
   ],
   "source": [
    "from datasets import load_dataset\n",
    "\n",
    "dataset = load_dataset(\"openai/webgpt_comparisons\")"
   ]
  },
  {
   "cell_type": "code",
   "execution_count": 4,
   "metadata": {},
   "outputs": [
    {
     "data": {
      "text/plain": [
       "{'id': 'webgpt0',\n",
       " 'instruction': '',\n",
       " 'input': 'Voiced by Harry Shearer, what Simpsons character was modeled after Ted Koppel?',\n",
       " 'candidates': [{'text': 'The Simpsons character that was possibly based on Ted Koppel is Kent Brockman.  He is a local news anchor in Springfield and is modeled after Ted Koppel. [1]',\n",
       "   'model': 'unknown',\n",
       "   'decoding_method': 'unknown',\n",
       "   'scores': {'human_preference': 1.0}},\n",
       "  {'text': \"Apu Nahasapeemapetilon is a recurring character in the American animated television series The Simpsons. He is an Indian immigrant proprietor who runs the Kwik-E-Mart, a popular convenience store in Springfield. [1] He was based on Peter Seller's character in the film The Party. [2]\",\n",
       "   'model': 'unknown',\n",
       "   'decoding_method': 'unknown',\n",
       "   'scores': {'human_preference': -1.0}}]}"
      ]
     },
     "execution_count": 4,
     "metadata": {},
     "output_type": "execute_result"
    }
   ],
   "source": [
    "new_data = []\n",
    "for i, item in enumerate(dataset[\"train\"]):\n",
    "    new_data.append({\n",
    "        \"id\": \"webgpt\" + str(i),\n",
    "        \"instruction\": \"\",\n",
    "        \"input\": item['question']['full_text'],\n",
    "        \"candidates\": [\n",
    "            {\n",
    "                \"text\": item['answer_0'],\n",
    "                \"model\": \"unknown\",\n",
    "                \"decoding_method\": \"unknown\",\n",
    "                \"scores\": {\n",
    "                    \"human_preference\": item['score_0']\n",
    "                }\n",
    "            },\n",
    "            {\n",
    "                \"text\": item['answer_1'],\n",
    "                \"model\": \"unknown\",\n",
    "                \"decoding_method\": \"unknown\",\n",
    "                \"scores\": {\n",
    "                    \"human_preference\": item['score_1']\n",
    "                }\n",
    "            }\n",
    "        ]\n",
    "    })\n",
    "new_data[0]"
   ]
  },
  {
   "cell_type": "code",
   "execution_count": null,
   "metadata": {},
   "outputs": [],
   "source": [
    "import json\n",
    "with open(\"train_data_prepared.json\", \"w\") as f:\n",
    "    json.dump(new_data, f, indent=2)\n"
   ]
  },
  {
   "cell_type": "code",
   "execution_count": 6,
   "metadata": {},
   "outputs": [
    {
     "data": {
      "text/plain": [
       "19578"
      ]
     },
     "execution_count": 6,
     "metadata": {},
     "output_type": "execute_result"
    }
   ],
   "source": [
    "len(new_data)"
   ]
  },
  {
   "cell_type": "code",
   "execution_count": null,
   "metadata": {},
   "outputs": [],
   "source": []
  }
 ],
 "metadata": {
  "kernelspec": {
   "display_name": "llm-blender",
   "language": "python",
   "name": "python3"
  },
  "language_info": {
   "codemirror_mode": {
    "name": "ipython",
    "version": 3
   },
   "file_extension": ".py",
   "mimetype": "text/x-python",
   "name": "python",
   "nbconvert_exporter": "python",
   "pygments_lexer": "ipython3",
   "version": "3.9.18"
  }
 },
 "nbformat": 4,
 "nbformat_minor": 2
}
