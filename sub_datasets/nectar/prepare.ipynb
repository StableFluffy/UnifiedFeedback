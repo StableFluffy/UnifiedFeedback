{
 "cells": [
  {
   "cell_type": "code",
   "execution_count": 1,
   "metadata": {},
   "outputs": [
    {
     "data": {
      "application/vnd.jupyter.widget-view+json": {
       "model_id": "e1dfa2c484184c66b069a8763273bdee",
       "version_major": 2,
       "version_minor": 0
      },
      "text/plain": [
       "Downloading readme:   0%|          | 0.00/8.58k [00:00<?, ?B/s]"
      ]
     },
     "metadata": {},
     "output_type": "display_data"
    },
    {
     "data": {
      "application/vnd.jupyter.widget-view+json": {
       "model_id": "c085f87016864e818034fec254ea58c4",
       "version_major": 2,
       "version_minor": 0
      },
      "text/plain": [
       "Downloading data files:   0%|          | 0/1 [00:00<?, ?it/s]"
      ]
     },
     "metadata": {},
     "output_type": "display_data"
    },
    {
     "data": {
      "application/vnd.jupyter.widget-view+json": {
       "model_id": "bab85d1e8557417d8cc0be573ac036ea",
       "version_major": 2,
       "version_minor": 0
      },
      "text/plain": [
       "Downloading data:   0%|          | 0.00/517M [00:00<?, ?B/s]"
      ]
     },
     "metadata": {},
     "output_type": "display_data"
    },
    {
     "data": {
      "application/vnd.jupyter.widget-view+json": {
       "model_id": "36d6c2d21faf45c49595c79a99fd554f",
       "version_major": 2,
       "version_minor": 0
      },
      "text/plain": [
       "Extracting data files:   0%|          | 0/1 [00:00<?, ?it/s]"
      ]
     },
     "metadata": {},
     "output_type": "display_data"
    },
    {
     "data": {
      "application/vnd.jupyter.widget-view+json": {
       "model_id": "4ccfa3190dca45f7b269fc90e5e56f34",
       "version_major": 2,
       "version_minor": 0
      },
      "text/plain": [
       "Generating train split: 0 examples [00:00, ? examples/s]"
      ]
     },
     "metadata": {},
     "output_type": "display_data"
    }
   ],
   "source": [
    "from datasets import load_dataset\n",
    "\n",
    "dataset = load_dataset(\"berkeley-nest/Nectar\")\n"
   ]
  },
  {
   "cell_type": "code",
   "execution_count": 50,
   "metadata": {},
   "outputs": [],
   "source": [
    "import json\n",
    "import regex as re\n",
    "import random\n",
    "from llm_blender.blender.blender_utils import get_pair_from_conv\n",
    "\n",
    "random.seed(42)\n",
    "new_data = []\n",
    "num_pair_samples_per_instance = 2\n",
    "for i, item in enumerate(dataset['train']):\n",
    "    human_instructions = re.findall(r'(?<=Human:)(?:.|\\n)*?(?=Assistant:)', item['prompt'])\n",
    "    assistant_responses = re.findall(r'(?<=Assistant:)(?:.|\\n)*?(?=Human:)', item['prompt'])\n",
    "    human_instructions = [x.strip(' \\n') for x in human_instructions]\n",
    "    assistant_responses = [x.strip(' \\n') for x in assistant_responses]\n",
    "    assert len(human_instructions) == len(assistant_responses) + 1, f\"Error in {i}\"\n",
    "    assert len(human_instructions) > 0, f\"Error in {i}\"\n",
    "    \n",
    "    if len(human_instructions) == 1:\n",
    "        instruction = human_instructions[0]\n",
    "        input = \"\"\n",
    "    elif len(human_instructions) > 1:\n",
    "        instruction = \"Respond to the latest instruction based on the conversation history.\"\n",
    "        input = item['prompt'].strip(' \\n')\n",
    "    candidate_texts = [x['answer'] for x in item['answers']]\n",
    "    candiate_scores = [-x['rank'] for x in item['answers']]\n",
    "    candidate_models = [x['model'] for x in item['answers']]\n",
    "    candidates = [\n",
    "        {\n",
    "            'text': candidate_texts[j],\n",
    "            'model': candidate_models[j],\n",
    "            'decoding_method': 'unknown',\n",
    "            'scores': {\n",
    "                'human_preference': candiate_scores[j]\n",
    "            }\n",
    "        }\n",
    "        for j in range(len(candidate_texts))\n",
    "    ]\n",
    "    random.shuffle(candidates)\n",
    "    \n",
    "    assert num_pair_samples_per_instance * 2 <= len(candidate_texts), f\"Error in {i}\"\n",
    "    for j in range(0, num_pair_samples_per_instance * 2, 2):\n",
    "        new_item = {\n",
    "            'id': \"berkeley-nest-nectar-\" + str(i) + \"-pair_\" + str(j),\n",
    "            'instruction': instruction,\n",
    "            'input': input,\n",
    "            'candidates': candidates[j*num_pair_samples_per_instance:(j+1)*num_pair_samples_per_instance]\n",
    "        }\n",
    "        new_data.append(new_item)\n",
    "    \n",
    "random.seed(42)\n",
    "random_idx = random.sample(range(len(new_data)), 1000)\n",
    "train_data = [new_data[i] for i in range(len(new_data)) if i not in random_idx]\n",
    "val_data = [new_data[i] for i in range(len(new_data)) if i in random_idx]\n",
    "with open(\"train_data_prepared.json\", \"w\") as f:\n",
    "    json.dump(train_data, f, indent=4)\n",
    "\n",
    "with open(\"val_data_prepared.json\", \"w\") as f:\n",
    "    json.dump(val_data, f, indent=4)\n",
    "    "
   ]
  },
  {
   "cell_type": "code",
   "execution_count": null,
   "metadata": {},
   "outputs": [],
   "source": []
  }
 ],
 "metadata": {
  "kernelspec": {
   "display_name": "llm-blender",
   "language": "python",
   "name": "python3"
  },
  "language_info": {
   "codemirror_mode": {
    "name": "ipython",
    "version": 3
   },
   "file_extension": ".py",
   "mimetype": "text/x-python",
   "name": "python",
   "nbconvert_exporter": "python",
   "pygments_lexer": "ipython3",
   "version": "3.9.18"
  }
 },
 "nbformat": 4,
 "nbformat_minor": 2
}
