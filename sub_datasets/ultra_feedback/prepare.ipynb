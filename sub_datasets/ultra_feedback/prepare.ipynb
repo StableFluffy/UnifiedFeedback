{
 "cells": [
  {
   "cell_type": "code",
   "execution_count": 1,
   "metadata": {},
   "outputs": [
    {
     "name": "stderr",
     "output_type": "stream",
     "text": [
      "/home/dongfu/miniconda3/envs/llm-blender/lib/python3.9/site-packages/tqdm/auto.py:21: TqdmWarning: IProgress not found. Please update jupyter and ipywidgets. See https://ipywidgets.readthedocs.io/en/stable/user_install.html\n",
      "  from .autonotebook import tqdm as notebook_tqdm\n",
      "Downloading readme: 100%|██████████| 15.0k/15.0k [00:00<00:00, 15.8MB/s]\n",
      "Downloading data: 100%|██████████| 169M/169M [00:07<00:00, 23.8MB/s]\n",
      "Downloading data: 100%|██████████| 26.1M/26.1M [00:00<00:00, 27.6MB/s]\n",
      "Downloading data: 100%|██████████| 242M/242M [00:09<00:00, 26.2MB/s]\n",
      "Downloading data: 100%|██████████| 314M/314M [00:13<00:00, 23.3MB/s]\n",
      "Downloading data: 100%|██████████| 10.1M/10.1M [00:00<00:00, 19.6MB/s]\n",
      "Downloading data: 100%|██████████| 183M/183M [00:08<00:00, 22.3MB/s]\n",
      "Downloading data files: 100%|██████████| 1/1 [00:39<00:00, 39.59s/it]\n",
      "Extracting data files: 100%|██████████| 1/1 [00:00<00:00, 448.54it/s]\n",
      "Generating train split: 63967 examples [00:04, 15054.25 examples/s]\n"
     ]
    },
    {
     "name": "stdout",
     "output_type": "stream",
     "text": [
      "127932\n"
     ]
    }
   ],
   "source": [
    "from datasets import load_dataset\n",
    "\n",
    "dataset = load_dataset(\"openbmb/UltraFeedback\")\n",
    "data = [x for x in dataset['train']]\n",
    "\n",
    "import json\n",
    "from itertools import combinations\n",
    "import random\n",
    "random.seed(42)\n",
    "new_data = []\n",
    "for i, x in enumerate(data):\n",
    "    # randomly sample 2 pairs\n",
    "    all_combs = list(combinations(x['completions'], 2))\n",
    "    random.shuffle(all_combs)\n",
    "    \n",
    "    for completion1, completion2 in all_combs[:2]:\n",
    "        text1 = completion1['response']\n",
    "        text2 = completion2['response']\n",
    "        model1 = completion1['model']\n",
    "        model2 = completion2['model']\n",
    "        cand1_scores = {\n",
    "            \"human_preference\": completion1['overall_score'],\n",
    "        }\n",
    "        cand1_scores.update({\n",
    "            aspect: annot['Rating'] for aspect, annot in completion1['annotations'].items()\n",
    "        })\n",
    "        cand2_scores = {\n",
    "            \"human_preference\": completion2['overall_score'],\n",
    "        }\n",
    "        cand2_scores.update({\n",
    "            aspect: annot['Rating'] for aspect, annot in completion2['annotations'].items()\n",
    "        })\n",
    "        new_item = {\n",
    "            \"id\": \"ultrafeedback_{}_{}\".format(x['source'], i),\n",
    "            \"instruction\": x['instruction'],\n",
    "            \"input\": \"\",\n",
    "            \"candidates\": [\n",
    "                {\n",
    "                    \"text\": text1,\n",
    "                    \"model\": model1,\n",
    "                    \"decoding_method\": \"unknown\",\n",
    "                    \"scores\": cand1_scores\n",
    "                },\n",
    "                {\n",
    "                    \"text\": text2,\n",
    "                    \"model\": model2,\n",
    "                    \"decoding_method\": \"unknown\",\n",
    "                    \"scores\": cand2_scores\n",
    "                }\n",
    "            ]\n",
    "        }\n",
    "        new_data.append(new_item)\n",
    "\n",
    "print(len(new_data))\n",
    "train_data = new_data[:-5000]\n",
    "val_data = new_data[-5000:]\n",
    "with open(\"train_data_prepared.json\", \"w\") as f:\n",
    "    json.dump(train_data, f, indent=4, ensure_ascii=False)\n",
    "with open(\"val_data_prepared.json\", \"w\") as f:\n",
    "    json.dump(val_data, f, indent=4, ensure_ascii=False)"
   ]
  }
 ],
 "metadata": {
  "kernelspec": {
   "display_name": "llm_reranker",
   "language": "python",
   "name": "python3"
  },
  "language_info": {
   "codemirror_mode": {
    "name": "ipython",
    "version": 3
   },
   "file_extension": ".py",
   "mimetype": "text/x-python",
   "name": "python",
   "nbconvert_exporter": "python",
   "pygments_lexer": "ipython3",
   "version": "3.9.18"
  }
 },
 "nbformat": 4,
 "nbformat_minor": 2
}
