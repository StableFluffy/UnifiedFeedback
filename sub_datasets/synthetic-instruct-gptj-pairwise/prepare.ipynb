{
 "cells": [
  {
   "cell_type": "code",
   "execution_count": null,
   "metadata": {},
   "outputs": [],
   "source": [
    "from datasets import load_dataset\n",
    "\n",
    "dataset = load_dataset(\"Dahoas/synthetic-instruct-gptj-pairwise\")\n"
   ]
  },
  {
   "cell_type": "code",
   "execution_count": null,
   "metadata": {},
   "outputs": [],
   "source": [
    "import json\n",
    "new_data = []\n",
    "for i, item in enumerate(dataset['train']):\n",
    "    new_data.append({\n",
    "        \"id\": \"synthetic-instruct-gptj-pairwise-\"+str(i),\n",
    "        \"instruction\": item['prompt'],\n",
    "        \"input\": \"\",\n",
    "        \"candidates\": [\n",
    "            {\n",
    "                \"text\": item['chosen'],\n",
    "                \"model\": \"unknown\",\n",
    "                \"decoding_method\": \"unknown\",\n",
    "                \"scores\": {\n",
    "                    \"human_preference\": 1,\n",
    "                }\n",
    "            },\n",
    "            {\n",
    "                \"text\": item['rejected'],\n",
    "                \"model\": \"unknown\",\n",
    "                \"decoding_method\": \"unknown\",\n",
    "                \"scores\": {\n",
    "                    \"human_preference\": 0,\n",
    "                }\n",
    "            }\n",
    "        ]\n",
    "    })\n",
    "with open(\"train_data_prepared.json\", \"w\") as f:\n",
    "    json.dump(new_data, f, indent=2)\n",
    "    \n",
    "                "
   ]
  }
 ],
 "metadata": {
  "language_info": {
   "name": "python"
  }
 },
 "nbformat": 4,
 "nbformat_minor": 2
}
